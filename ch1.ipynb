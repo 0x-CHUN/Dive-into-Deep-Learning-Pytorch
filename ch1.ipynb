{
 "metadata": {
  "language_info": {
   "codemirror_mode": {
    "name": "ipython",
    "version": 3
   },
   "file_extension": ".py",
   "mimetype": "text/x-python",
   "name": "python",
   "nbconvert_exporter": "python",
   "pygments_lexer": "ipython3",
   "version": 3
  },
  "orig_nbformat": 2
 },
 "nbformat": 4,
 "nbformat_minor": 2,
 "cells": [
  {
   "source": [
    "# 深度学习简介\n",
    "\n",
    "* 机器学习研究如何使计算机系统利用经验改善性能，是人工智能的一个分支。\n",
    "\n",
    "* 作为机器学习的一类，表征学习关注如何自动找出表示数据的合适方式。\n",
    "\n",
    "* 深度学习是具有多级表示的表征学习方法，可以逐级表示越来越抽象的概念或模式。"
   ],
   "cell_type": "markdown",
   "metadata": {}
  }
 ]
}